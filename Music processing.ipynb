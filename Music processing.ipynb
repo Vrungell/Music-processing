{
 "cells": [
  {
   "cell_type": "code",
   "execution_count": null,
   "metadata": {},
   "outputs": [],
   "source": [
    "#!pip install librosa"
   ]
  },
  {
   "cell_type": "code",
   "execution_count": null,
   "metadata": {},
   "outputs": [],
   "source": [
    "import numpy as np\n",
    "import librosa\n",
    "import matplotlib.pyplot as plt\n",
    "import IPython.display as ipd "
   ]
  },
  {
   "cell_type": "code",
   "execution_count": null,
   "metadata": {},
   "outputs": [],
   "source": [
    "def processing_audio(sample_audio, sr, bpm):\n",
    "    onset_env = librosa.onset.onset_strength(sample_audio, sr=sr, aggregate=np.median)\n",
    "    tempo, beats = librosa.beat.beat_track(sample_audio, sr=sr, start_bpm=bpm)\n",
    "    return onset_env, tempo, beats"
   ]
  },
  {
   "cell_type": "code",
   "execution_count": null,
   "metadata": {},
   "outputs": [],
   "source": [
    "def display(onset_env, sr, beats):\n",
    "    hop_length = 4096\n",
    "    times = librosa.frames_to_time(np.arange(len(onset_env)), sr=sr, hop_length=hop_length)\n",
    "    plt.figure(figsize=(18, 6))\n",
    "    plt.title('Clicks')\n",
    "    plt.plot(times, librosa.util.normalize(onset_env), label='Onset strength')\n",
    "    plt.vlines(times[beats], 0, 1, alpha=0.5, color='r', linestyle='--', label='Beats')\n",
    "    plt.legend(frameon=True, framealpha=0.75)\n",
    "    plt.xlim(500,750) #just a window from an audio\n",
    "    plt.tight_layout()\n",
    "    plt.show()"
   ]
  },
  {
   "cell_type": "markdown",
   "metadata": {},
   "source": [
    "The choice of audio in brackets."
   ]
  },
  {
   "cell_type": "code",
   "execution_count": null,
   "metadata": {},
   "outputs": [],
   "source": [
    "sample_audio, sr = librosa.load('./Bon Jovi - Livin\\' On A Prayer.wav') #sr - sampling rate, y - audiofile"
   ]
  },
  {
   "cell_type": "code",
   "execution_count": null,
   "metadata": {
    "scrolled": true
   },
   "outputs": [],
   "source": [
    "plt.figure(figsize=(18,6))\n",
    "plt.plot(sample_audio, label='raw audio');"
   ]
  },
  {
   "cell_type": "markdown",
   "metadata": {},
   "source": [
    "The choice of \"start_bpm\" - last argument (20,40,60,80)."
   ]
  },
  {
   "cell_type": "code",
   "execution_count": null,
   "metadata": {},
   "outputs": [],
   "source": [
    "onset_env, tempo, beats = processing_audio(sample_audio, sr, 60)"
   ]
  },
  {
   "cell_type": "code",
   "execution_count": null,
   "metadata": {},
   "outputs": [],
   "source": [
    "display(onset_env, sr, beats) "
   ]
  },
  {
   "cell_type": "code",
   "execution_count": null,
   "metadata": {},
   "outputs": [],
   "source": [
    "beats = librosa.frames_to_time(beats, sr=sr)\n",
    "clicks = librosa.clicks(beats, sr=sr, length=len(sample_audio))\n",
    "ipd.Audio(sample_audio+clicks, rate=sr)"
   ]
  },
  {
   "cell_type": "code",
   "execution_count": null,
   "metadata": {},
   "outputs": [],
   "source": [
    "librosa.output.write_wav('Clicked_sample.wav', sample_audio+clicks, sr)"
   ]
  },
  {
   "cell_type": "code",
   "execution_count": null,
   "metadata": {},
   "outputs": [],
   "source": []
  },
  {
   "cell_type": "code",
   "execution_count": null,
   "metadata": {},
   "outputs": [],
   "source": []
  }
 ],
 "metadata": {
  "kernelspec": {
   "display_name": "Python 3",
   "language": "python",
   "name": "python3"
  },
  "language_info": {
   "codemirror_mode": {
    "name": "ipython",
    "version": 3
   },
   "file_extension": ".py",
   "mimetype": "text/x-python",
   "name": "python",
   "nbconvert_exporter": "python",
   "pygments_lexer": "ipython3",
   "version": "3.6.4"
  }
 },
 "nbformat": 4,
 "nbformat_minor": 2
}
